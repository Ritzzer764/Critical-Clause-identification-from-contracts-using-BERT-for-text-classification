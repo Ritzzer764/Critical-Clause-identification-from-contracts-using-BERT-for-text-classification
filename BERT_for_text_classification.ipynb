{
 "cells": [
  {
   "cell_type": "code",
   "execution_count": 2,
   "metadata": {},
   "outputs": [],
   "source": [
    "import pandas as pd\n",
    "import numpy as np"
   ]
  },
  {
   "cell_type": "code",
   "execution_count": null,
   "metadata": {},
   "outputs": [],
   "source": [
    "df = pd.read_csv(path_to_dataset) #path of the dataset\n",
    "df.columns= [\"clauses\", \"critical\"]\n"
   ]
  },
  {
   "cell_type": "code",
   "execution_count": 3,
   "metadata": {},
   "outputs": [],
   "source": [
    "df['critical'] = df['critical'].apply(lambda x: 1 if x == 'critical' else 0)\n"
   ]
  },
  {
   "cell_type": "code",
   "execution_count": 4,
   "metadata": {},
   "outputs": [],
   "source": [
    "from sklearn.model_selection import train_test_split\n",
    "X_train, X_test, y_train, y_test = train_test_split(df['clauses'], df['critical'])\n"
   ]
  },
  {
   "cell_type": "code",
   "execution_count": 5,
   "metadata": {},
   "outputs": [],
   "source": [
    "import tensorflow as tf\n",
    "import tensorflow_hub as hub\n",
    "import tensorflow_text as text"
   ]
  },
  {
   "cell_type": "code",
   "execution_count": 6,
   "metadata": {},
   "outputs": [],
   "source": [
    "\n",
    "text_input = tf.keras.layers.Input(shape=(), dtype=tf.string)\n",
    "preprocessor = hub.KerasLayer(Path_bert_en_uncased_preprocess_3)#Path of the uncased preprocessor of BERT\n",
    "encoder_inputs = preprocessor(text_input)\n",
    "encoder = hub.KerasLayer(\n",
    "    Path_small_bert_bert_en_uncased_L-4_H-256_A-4_2,\n",
    "    trainable=True) #Path of small_bert_bert_en_uncased_L-4_H-256_A-4_2\n",
    "outputs = encoder(encoder_inputs)\n"
   ]
  },
  {
   "cell_type": "markdown",
   "metadata": {},
   "source": []
  },
  {
   "cell_type": "code",
   "execution_count": 7,
   "metadata": {},
   "outputs": [],
   "source": [
    "l = tf.keras.layers.Dropout(0.1, name=\"dropout\")(outputs['pooled_output'])\n",
    "l = tf.keras.layers.Dense(1, activation='sigmoid', name=\"output\")(l)"
   ]
  },
  {
   "cell_type": "code",
   "execution_count": 8,
   "metadata": {},
   "outputs": [],
   "source": [
    "model = tf.keras.Model(inputs=[text_input], outputs = [l])"
   ]
  },
  {
   "cell_type": "code",
   "execution_count": 9,
   "metadata": {},
   "outputs": [],
   "source": [
    "METRICS = [ tf.keras.metrics.BinaryAccuracy(name='accuracy'), tf.keras.metrics.Precision(name='precision'), tf.keras.metrics.Recall(name='recall')]\n",
    "\n",
    "model.compile(optimizer='adam', loss='binary_crossentropy', metrics=METRICS)"
   ]
  },
  {
   "cell_type": "code",
   "execution_count": 10,
   "metadata": {},
   "outputs": [
    {
     "name": "stdout",
     "output_type": "stream",
     "text": [
      "Epoch 1/5\n",
      "29/29 [==============================] - 34s 985ms/step - loss: 0.7185 - accuracy: 0.6103 - precision: 0.5892 - recall: 0.6014\n",
      "Epoch 2/5\n",
      "29/29 [==============================] - 29s 1s/step - loss: 0.4478 - accuracy: 0.8408 - precision: 0.8449 - recall: 0.8157\n",
      "Epoch 3/5\n",
      "29/29 [==============================] - 56s 2s/step - loss: 0.2753 - accuracy: 0.9133 - precision: 0.9319 - recall: 0.8825\n",
      "Epoch 4/5\n",
      "29/29 [==============================] - 60s 2s/step - loss: 0.2552 - accuracy: 0.9133 - precision: 0.8953 - recall: 0.9263\n",
      "Epoch 5/5\n",
      "29/29 [==============================] - 60s 2s/step - loss: 0.2159 - accuracy: 0.9297 - precision: 0.9405 - recall: 0.9101\n"
     ]
    },
    {
     "data": {
      "text/plain": [
       "<keras.callbacks.History at 0x284f614b130>"
      ]
     },
     "execution_count": 10,
     "metadata": {},
     "output_type": "execute_result"
    }
   ],
   "source": [
    "history = model.fit(X_train, y_train, epochs=5)        "
   ]
  },
  {
   "cell_type": "code",
   "execution_count": null,
   "metadata": {},
   "outputs": [],
   "source": [
    "y_predicted = model.predict(X_test)\n",
    "y_predicted = y_predicted.flatten()\n",
    "for i in range(len(X_test)):\n",
    "    print(i, \" \", X_test.iloc[i])\n",
    "    print(y_predicted)    \n"
   ]
  },
  {
   "cell_type": "code",
   "execution_count": 12,
   "metadata": {},
   "outputs": [
    {
     "name": "stdout",
     "output_type": "stream",
     "text": [
      "10/10 [==============================] - 4s 305ms/step - loss: 0.2613 - accuracy: 0.9211 - precision: 0.9524 - recall: 0.8917\n"
     ]
    },
    {
     "data": {
      "text/plain": [
       "[0.26129451394081116,\n",
       " 0.9210526347160339,\n",
       " 0.9523809552192688,\n",
       " 0.8917197585105896]"
      ]
     },
     "execution_count": 12,
     "metadata": {},
     "output_type": "execute_result"
    }
   ],
   "source": [
    "model.evaluate(X_test, y_test)"
   ]
  }
 ],
 "metadata": {
  "interpreter": {
   "hash": "fd021fda991cfccb6b5bc0a065a14730a7f3e20ed9e1c88f80f275a971b5ccef"
  },
  "kernelspec": {
   "display_name": "Python 3.8.12 ('myenv')",
   "language": "python",
   "name": "python3"
  },
  "language_info": {
   "codemirror_mode": {
    "name": "ipython",
    "version": 3
   },
   "file_extension": ".py",
   "mimetype": "text/x-python",
   "name": "python",
   "nbconvert_exporter": "python",
   "pygments_lexer": "ipython3",
   "version": "3.8.13"
  },
  "orig_nbformat": 4
 },
 "nbformat": 4,
 "nbformat_minor": 2
}
