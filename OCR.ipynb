{
 "cells": [
  {
   "cell_type": "code",
   "execution_count": 2,
   "metadata": {},
   "outputs": [],
   "source": [
    "import pytesseract\n",
    "import cv2\n",
    "import csv\n",
    "from pytesseract import image_to_string\n",
    "from pytesseract import Output\n",
    "from pdf2image import convert_from_path\n",
    "from PIL import Image"
   ]
  },
  {
   "cell_type": "code",
   "execution_count": 3,
   "metadata": {},
   "outputs": [],
   "source": [
    "pytesseract.pytesseract.tesseract_cmd = r'C:\\\\Program Files\\\\Tesseract\\\\tesseract.exe' "
   ]
  },
  {
   "cell_type": "code",
   "execution_count": 4,
   "metadata": {},
   "outputs": [],
   "source": [
    "\n",
    "def convert_pdf_to_img(pdf_file, first_page, last_page):\n",
    "    return convert_from_path(pdf_file,first_page=first_page,\n",
    "    last_page=last_page,poppler_path= r'C:\\\\Program Files\\\\poppler-0.68.0\\\\bin')\n",
    "\n",
    "def convert_img_to_text(file):\n",
    "    text = image_to_string(file)\n",
    "    return text\n",
    "\n",
    "\n",
    "def get_text_from_any_pdf(pdf_file, first, last):\n",
    "    images = convert_pdf_to_img(pdf_file, first, last)\n",
    "    final_text = \"\"\n",
    "    for pg, img in enumerate(images):\n",
    "        final_text+=convert_img_to_text(img)\n",
    "    return final_text"
   ]
  },
  {
   "cell_type": "code",
   "execution_count": 5,
   "metadata": {},
   "outputs": [],
   "source": [
    "path = \"insert_path_of_file\" #Enter the path of the file to OCR"
   ]
  },
  {
   "cell_type": "code",
   "execution_count": 6,
   "metadata": {},
   "outputs": [],
   "source": [
    "images = convert_from_path(path, 500, poppler_path= r'C:\\\\Program Files\\\\poppler-0.68.0\\\\bin')"
   ]
  },
  {
   "cell_type": "code",
   "execution_count": 10,
   "metadata": {},
   "outputs": [],
   "source": [
    "text_from_pytesseract = get_text_from_any_pdf(path, 1, len(images))"
   ]
  },
  {
   "cell_type": "code",
   "execution_count": null,
   "metadata": {},
   "outputs": [],
   "source": [
    "\n",
    "def cleaner():\n",
    "    import re\n",
    "    sentence = re.split(\"\\\\. |\\\\.\\n|\\\\.\\n\\n|\\\\:\\n|\\\\: \\n|\\\\:\\n\\n|\\\\\\n\\n\",text_from_pytesseract)\n",
    "    for i in range(len(sentence)):\n",
    "        sentence[i] = sentence[i].replace('\\n',' ')\n",
    "        sentence[i] = sentence[i].replace('\\n\\n',' ')\n",
    "        sentence[i] = re.sub(r\"^\\s\",'',sentence[i])\n",
    "        sentence[i] = re.sub(r\"^,\\s\",'',sentence[i])\n",
    "\n",
    "    for i in range(len(sentence)):\n",
    "        if(len(sentence[i].strip().split()) < 6):\n",
    "            sentence[i] = '' \n",
    "        \n",
    "    return sentence\n",
    "cleaner()"
   ]
  },
  {
   "cell_type": "code",
   "execution_count": null,
   "metadata": {},
   "outputs": [],
   "source": [
    "def writer():\n",
    "    sentence = cleaner()\n",
    "    with open(\"filename.csv\", \"w\", newline='', encoding= 'ansi') as f: \n",
    "        my_csvwriter = csv.writer(f)\n",
    "        my_csvwriter.writerow([\"Text\"])\n",
    "        for sen in sentence:\n",
    "            if(sen != ''):\n",
    "                if(sen[0:2]== 'e '):\n",
    "                    sen = sen[2:len(sen)]\n",
    "                print(sen)\n",
    "                my_csvwriter.writerow([sen])\n",
    "writer()"
   ]
  }
 ],
 "metadata": {
  "interpreter": {
   "hash": "fd021fda991cfccb6b5bc0a065a14730a7f3e20ed9e1c88f80f275a971b5ccef"
  },
  "kernelspec": {
   "display_name": "Python 3.8.12 ('myenv')",
   "language": "python",
   "name": "python3"
  },
  "language_info": {
   "codemirror_mode": {
    "name": "ipython",
    "version": 3
   },
   "file_extension": ".py",
   "mimetype": "text/x-python",
   "name": "python",
   "nbconvert_exporter": "python",
   "pygments_lexer": "ipython3",
   "version": "3.8.13"
  },
  "orig_nbformat": 4
 },
 "nbformat": 4,
 "nbformat_minor": 2
}
